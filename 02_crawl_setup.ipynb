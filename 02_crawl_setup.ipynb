{
 "cells": [
  {
   "cell_type": "markdown",
   "id": "b18a7ed1",
   "metadata": {},
   "source": [
    "Ok, importing modules and copying the funciton we made in 01_beautifulsoup_setup.ipynb"
   ]
  },
  {
   "cell_type": "code",
   "execution_count": 1,
   "id": "56908fe4",
   "metadata": {},
   "outputs": [],
   "source": [
    "import requests\n",
    "from bs4 import BeautifulSoup\n",
    "from time import sleep\n",
    "import pandas as pd"
   ]
  },
  {
   "cell_type": "markdown",
   "id": "1a8bd70f",
   "metadata": {},
   "source": [
    "EDIT: After finishing and testing, I added the for loop to check for the keywords before continuing."
   ]
  },
  {
   "cell_type": "code",
   "execution_count": 2,
   "id": "1ab03030",
   "metadata": {},
   "outputs": [],
   "source": [
    "keywords = ['mattress', 'cabinet', 'wrench']\n",
    "def grabpost(thisurl):\n",
    "    thispage = requests.get(thisurl)\n",
    "    bs = BeautifulSoup(thispage.text,'html.parser')\n",
    "    post_body = bs.find(id='postingbody').text\n",
    "    \n",
    "    for word in keywords:\n",
    "        if word in post_body:\n",
    "        title = bs.find(id='titletextonly').text\n",
    "        time_posted = bs.find('time').text.strip()\n",
    "        address = bs.find(class_='mapaddress').text\n",
    "        \n",
    "        return {'url':thisurl, 'title': title, 'time': time_posted,\n",
    "               'address': address, 'post_body': post_body}"
   ]
  },
  {
   "cell_type": "markdown",
   "id": "12fb557b",
   "metadata": {},
   "source": [
    "Just gonna make a quick csv with the headders we're using in the dictionary created by grabpost() before we move on."
   ]
  },
  {
   "cell_type": "code",
   "execution_count": 3,
   "id": "c38b570b",
   "metadata": {},
   "outputs": [],
   "source": [
    "filename = 'craigslist.csv'\n",
    "with open(filename,'w') as f:\n",
    "  f.write('url,title,time,address,post_body\\n')"
   ]
  },
  {
   "cell_type": "code",
   "execution_count": 18,
   "id": "b2749e53",
   "metadata": {},
   "outputs": [],
   "source": [
    "df = pd.read_csv(filename)"
   ]
  },
  {
   "cell_type": "markdown",
   "id": "aaef77b4",
   "metadata": {},
   "source": [
    "ok, grabbing our html parser from bs4 to get try and find the links for all the posts on the Phoenix Garage & Moving Sales page."
   ]
  },
  {
   "cell_type": "code",
   "execution_count": 4,
   "id": "3bae2eac",
   "metadata": {},
   "outputs": [],
   "source": [
    "thispage = requests.get('https://phoenix.craigslist.org/search/gms')\n",
    "bs = BeautifulSoup(thispage.text,'html.parser')"
   ]
  },
  {
   "cell_type": "code",
   "execution_count": 15,
   "id": "02f5ff26",
   "metadata": {},
   "outputs": [
    {
     "data": {
      "text/plain": [
       "[<a class=\"result-title hdrlnk\" data-id=\"7442684354\" href=\"https://phoenix.craigslist.org/nph/gms/d/phoenix-reduced-kids-motorized-frozen/7442684354.html\" id=\"postid_7442684354\">REDUCED Kids Motorized Frozen Benz, BMW i8 Coupe, 4 Wheeler....</a>,\n",
       " <a class=\"result-title hdrlnk\" data-id=\"7439457025\" href=\"https://phoenix.craigslist.org/nph/gms/d/phoenix-chevy-wheels-lb-10-lb-weights/7439457025.html\" id=\"postid_7439457025\">Chevy Wheels  5 lb 10 lb weights and heavy bag speed bag stand$$</a>,\n",
       " <a class=\"result-title hdrlnk\" data-id=\"7444018225\" href=\"https://phoenix.craigslist.org/nph/gms/d/phoenix-garage-sale-thursday-friday-feb/7444018225.html\" id=\"postid_7444018225\">Garage Sale Thursday &amp; Friday Feb 10,11</a>,\n",
       " <a class=\"result-title hdrlnk\" data-id=\"7443953320\" href=\"https://phoenix.craigslist.org/wvl/gms/d/sun-city-west-huge-yard-and-plant-sale/7443953320.html\" id=\"postid_7443953320\">Huge Yard and Plant SALE</a>,\n",
       " <a class=\"result-title hdrlnk\" data-id=\"7444034924\" href=\"https://phoenix.craigslist.org/nph/gms/d/phoenix-huge-estate-sale/7444034924.html\" id=\"postid_7444034924\">HUGE estate sale 2/10, 11, 12</a>,\n",
       " <a class=\"result-title hdrlnk\" data-id=\"7442666811\" href=\"https://phoenix.craigslist.org/wvl/gms/d/sun-city-estate-sale/7442666811.html\" id=\"postid_7442666811\">Estate Sale</a>,\n",
       " <a class=\"result-title hdrlnk\" data-id=\"7444063257\" href=\"https://phoenix.craigslist.org/wvl/gms/d/palo-verde-huge-yard-sale/7444063257.html\" id=\"postid_7444063257\">huge yard sale</a>,\n",
       " <a class=\"result-title hdrlnk\" data-id=\"7444089826\" href=\"https://phoenix.craigslist.org/evl/gms/d/rio-verde-yard-estate-sale/7444089826.html\" id=\"postid_7444089826\">Yard/estate sale</a>,\n",
       " <a class=\"result-title hdrlnk\" data-id=\"7443808092\" href=\"https://phoenix.craigslist.org/wvl/gms/d/sun-city-west-patio-sale/7443808092.html\" id=\"postid_7443808092\">Patio Sale</a>,\n",
       " <a class=\"result-title hdrlnk\" data-id=\"7444046776\" href=\"https://phoenix.craigslist.org/wvl/gms/d/sun-city-west-moving-sale/7444046776.html\" id=\"postid_7444046776\">Moving sale</a>,\n",
       " <a class=\"result-title hdrlnk\" data-id=\"7443928236\" href=\"https://phoenix.craigslist.org/wvl/gms/d/glendale-big-garage-sale/7443928236.html\" id=\"postid_7443928236\">Big Garage Sale!!!</a>,\n",
       " <a class=\"result-title hdrlnk\" data-id=\"7444053100\" href=\"https://phoenix.craigslist.org/evl/gms/d/mesa-multi-family-garage-sale-thursday/7444053100.html\" id=\"postid_7444053100\">multi family garage sale--thursday 2/10  7am</a>,\n",
       " <a class=\"result-title hdrlnk\" data-id=\"7441028255\" href=\"https://phoenix.craigslist.org/nph/gms/d/glendale-estate-salegarage-saleyard/7441028255.html\" id=\"postid_7441028255\">~ESTATE SALE!~GARAGE SALE~YARD SALE~Everything is For Sale!</a>,\n",
       " <a class=\"result-title hdrlnk\" data-id=\"7441914080\" href=\"https://phoenix.craigslist.org/wvl/gms/d/peoria-moving-sale/7441914080.html\" id=\"postid_7441914080\">MOVING SALE</a>,\n",
       " <a class=\"result-title hdrlnk\" data-id=\"7442605011\" href=\"https://phoenix.craigslist.org/evl/gms/d/gold-canyon-moving-sale/7442605011.html\" id=\"postid_7442605011\">Moving Sale</a>,\n",
       " <a class=\"result-title hdrlnk\" data-id=\"7443649101\" href=\"https://phoenix.craigslist.org/wvl/gms/d/sun-city-west-moving-sale/7443649101.html\" id=\"postid_7443649101\">Moving Sale -</a>,\n",
       " <a class=\"result-title hdrlnk\" data-id=\"7443658618\" href=\"https://phoenix.craigslist.org/wvl/gms/d/peoria-large-moving-sale/7443658618.html\" id=\"postid_7443658618\">Large moving sale!</a>,\n",
       " <a class=\"result-title hdrlnk\" data-id=\"7443665673\" href=\"https://phoenix.craigslist.org/evl/gms/d/tempe-moving-sale-many-items-come-get/7443665673.html\" id=\"postid_7443665673\">MOVING SALE: MANY ITEMS - COME GET THEM</a>,\n",
       " <a class=\"result-title hdrlnk\" data-id=\"7439354831\" href=\"https://phoenix.craigslist.org/cph/gms/d/phoenix-everything-must-go/7439354831.html\" id=\"postid_7439354831\">Everything Must Go</a>,\n",
       " <a class=\"result-title hdrlnk\" data-id=\"7442684354\" href=\"https://phoenix.craigslist.org/nph/gms/d/phoenix-reduced-kids-motorized-frozen/7442684354.html\" id=\"postid_7442684354\">REDUCED Kids Motorized Frozen Benz, BMW i8 Coupe, 4 Wheeler....</a>,\n",
       " <a class=\"result-title hdrlnk\" data-id=\"7439457025\" href=\"https://phoenix.craigslist.org/nph/gms/d/phoenix-chevy-wheels-lb-10-lb-weights/7439457025.html\" id=\"postid_7439457025\">Chevy Wheels  5 lb 10 lb weights and heavy bag speed bag stand$$</a>,\n",
       " <a class=\"result-title hdrlnk\" data-id=\"7439591056\" href=\"https://phoenix.craigslist.org/nph/gms/d/phoenix-speed-bag-stand35-four-wheels/7439591056.html\" id=\"postid_7439591056\">speed bag stand$35. Four wheels $150 Gold gym weights $40</a>,\n",
       " <a class=\"result-title hdrlnk\" data-id=\"7443528430\" href=\"https://phoenix.craigslist.org/wvl/gms/d/phoenix-carport-sale/7443528430.html\" id=\"postid_7443528430\">CARPORT SALE</a>,\n",
       " <a class=\"result-title hdrlnk\" data-id=\"7444018225\" href=\"https://phoenix.craigslist.org/nph/gms/d/phoenix-garage-sale-thursday-friday-feb/7444018225.html\" id=\"postid_7444018225\">Garage Sale Thursday &amp; Friday Feb 10,11</a>,\n",
       " <a class=\"result-title hdrlnk\" data-id=\"7443953320\" href=\"https://phoenix.craigslist.org/wvl/gms/d/sun-city-west-huge-yard-and-plant-sale/7443953320.html\" id=\"postid_7443953320\">Huge Yard and Plant SALE</a>,\n",
       " <a class=\"result-title hdrlnk\" data-id=\"7444034924\" href=\"https://phoenix.craigslist.org/nph/gms/d/phoenix-huge-estate-sale/7444034924.html\" id=\"postid_7444034924\">HUGE estate sale 2/10, 11, 12</a>,\n",
       " <a class=\"result-title hdrlnk\" data-id=\"7442666811\" href=\"https://phoenix.craigslist.org/wvl/gms/d/sun-city-estate-sale/7442666811.html\" id=\"postid_7442666811\">Estate Sale</a>,\n",
       " <a class=\"result-title hdrlnk\" data-id=\"7444063257\" href=\"https://phoenix.craigslist.org/wvl/gms/d/palo-verde-huge-yard-sale/7444063257.html\" id=\"postid_7444063257\">huge yard sale</a>,\n",
       " <a class=\"result-title hdrlnk\" data-id=\"7444089826\" href=\"https://phoenix.craigslist.org/evl/gms/d/rio-verde-yard-estate-sale/7444089826.html\" id=\"postid_7444089826\">Yard/estate sale</a>,\n",
       " <a class=\"result-title hdrlnk\" data-id=\"7443808092\" href=\"https://phoenix.craigslist.org/wvl/gms/d/sun-city-west-patio-sale/7443808092.html\" id=\"postid_7443808092\">Patio Sale</a>,\n",
       " <a class=\"result-title hdrlnk\" data-id=\"7444046776\" href=\"https://phoenix.craigslist.org/wvl/gms/d/sun-city-west-moving-sale/7444046776.html\" id=\"postid_7444046776\">Moving sale</a>,\n",
       " <a class=\"result-title hdrlnk\" data-id=\"7443928236\" href=\"https://phoenix.craigslist.org/wvl/gms/d/glendale-big-garage-sale/7443928236.html\" id=\"postid_7443928236\">Big Garage Sale!!!</a>,\n",
       " <a class=\"result-title hdrlnk\" data-id=\"7444053100\" href=\"https://phoenix.craigslist.org/evl/gms/d/mesa-multi-family-garage-sale-thursday/7444053100.html\" id=\"postid_7444053100\">multi family garage sale--thursday 2/10  7am</a>,\n",
       " <a class=\"result-title hdrlnk\" data-id=\"7441028255\" href=\"https://phoenix.craigslist.org/nph/gms/d/glendale-estate-salegarage-saleyard/7441028255.html\" id=\"postid_7441028255\">~ESTATE SALE!~GARAGE SALE~YARD SALE~Everything is For Sale!</a>,\n",
       " <a class=\"result-title hdrlnk\" data-id=\"7442605011\" href=\"https://phoenix.craigslist.org/evl/gms/d/gold-canyon-moving-sale/7442605011.html\" id=\"postid_7442605011\">Moving Sale</a>,\n",
       " <a class=\"result-title hdrlnk\" data-id=\"7443649101\" href=\"https://phoenix.craigslist.org/wvl/gms/d/sun-city-west-moving-sale/7443649101.html\" id=\"postid_7443649101\">Moving Sale -</a>,\n",
       " <a class=\"result-title hdrlnk\" data-id=\"7443658618\" href=\"https://phoenix.craigslist.org/wvl/gms/d/peoria-large-moving-sale/7443658618.html\" id=\"postid_7443658618\">Large moving sale!</a>,\n",
       " <a class=\"result-title hdrlnk\" data-id=\"7443665673\" href=\"https://phoenix.craigslist.org/evl/gms/d/tempe-moving-sale-many-items-come-get/7443665673.html\" id=\"postid_7443665673\">MOVING SALE: MANY ITEMS - COME GET THEM</a>,\n",
       " <a class=\"result-title hdrlnk\" data-id=\"7443723006\" href=\"https://phoenix.craigslist.org/nph/gms/d/phoenix-yard-sale-yard-sale/7443723006.html\" id=\"postid_7443723006\">Yard Sale!  Yard Sale!</a>,\n",
       " <a class=\"result-title hdrlnk\" data-id=\"7444093053\" href=\"https://phoenix.craigslist.org/evl/gms/d/mesa-patio-sales/7444093053.html\" id=\"postid_7444093053\">Patio sales</a>,\n",
       " <a class=\"result-title hdrlnk\" data-id=\"7444018876\" href=\"https://phoenix.craigslist.org/wvl/gms/d/luke-air-force-base-garage-sale/7444018876.html\" id=\"postid_7444018876\">Garage Sale</a>,\n",
       " <a class=\"result-title hdrlnk\" data-id=\"7443923617\" href=\"https://phoenix.craigslist.org/evl/gms/d/scottsdale-estate-garage-sale/7443923617.html\" id=\"postid_7443923617\">Estate Garage Sale:</a>,\n",
       " <a class=\"result-title hdrlnk\" data-id=\"7443979379\" href=\"https://phoenix.craigslist.org/evl/gms/d/mesa-yard-sale/7443979379.html\" id=\"postid_7443979379\">Yard Sale</a>,\n",
       " <a class=\"result-title hdrlnk\" data-id=\"7444069489\" href=\"https://phoenix.craigslist.org/evl/gms/d/mesa-multi-family-yard-sale/7444069489.html\" id=\"postid_7444069489\">Multi Family Yard Sale</a>,\n",
       " <a class=\"result-title hdrlnk\" data-id=\"7443959126\" href=\"https://phoenix.craigslist.org/evl/gms/d/mesa-yard-sale/7443959126.html\" id=\"postid_7443959126\">Yard sale</a>,\n",
       " <a class=\"result-title hdrlnk\" data-id=\"7442572439\" href=\"https://phoenix.craigslist.org/evl/gms/d/scottsdale-moving/7442572439.html\" id=\"postid_7442572439\">Moving, housold,antiques,vintage sale</a>,\n",
       " <a class=\"result-title hdrlnk\" data-id=\"7442554346\" href=\"https://phoenix.craigslist.org/cph/gms/d/phoenix-big-yard-sale-all-must-go-games/7442554346.html\" id=\"postid_7442554346\">Big yard sale all must go games House hold</a>,\n",
       " <a class=\"result-title hdrlnk\" data-id=\"7444012898\" href=\"https://phoenix.craigslist.org/evl/gms/d/mesa-garage-sale/7444012898.html\" id=\"postid_7444012898\">GARAGE SALE</a>,\n",
       " <a class=\"result-title hdrlnk\" data-id=\"7444013884\" href=\"https://phoenix.craigslist.org/evl/gms/d/mesa-garage-sale/7444013884.html\" id=\"postid_7444013884\">Garage Sale</a>,\n",
       " <a class=\"result-title hdrlnk\" data-id=\"7442244723\" href=\"https://phoenix.craigslist.org/evl/gms/d/higley-moving-sale/7442244723.html\" id=\"postid_7442244723\">Moving Sale</a>,\n",
       " <a class=\"result-title hdrlnk\" data-id=\"7442494648\" href=\"https://phoenix.craigslist.org/wvl/gms/d/sun-city-moving-garage-sale/7442494648.html\" id=\"postid_7442494648\">Moving/Garage Sale</a>,\n",
       " <a class=\"result-title hdrlnk\" data-id=\"7441496679\" href=\"https://phoenix.craigslist.org/nph/gms/d/scottsdale-moving-sale-furniture-and/7441496679.html\" id=\"postid_7441496679\">Moving Sale/ furniture and fine decorative items</a>,\n",
       " <a class=\"result-title hdrlnk\" data-id=\"7442637477\" href=\"https://phoenix.craigslist.org/nph/gms/d/phoenix-estate-liquidation-sale-7am-2pm/7442637477.html\" id=\"postid_7442637477\">Estate Liquidation Sale 7AM-2PM</a>,\n",
       " <a class=\"result-title hdrlnk\" data-id=\"7442719183\" href=\"https://phoenix.craigslist.org/evl/gms/d/apache-junction-huge-yard-sale/7442719183.html\" id=\"postid_7442719183\">Huge Yard Sale</a>,\n",
       " <a class=\"result-title hdrlnk\" data-id=\"7442907032\" href=\"https://phoenix.craigslist.org/evl/gms/d/mesa-moving-sale/7442907032.html\" id=\"postid_7442907032\">Moving Sale</a>,\n",
       " <a class=\"result-title hdrlnk\" data-id=\"7442962418\" href=\"https://phoenix.craigslist.org/evl/gms/d/scottsdale-estate-sale-fri-and-sat/7442962418.html\" id=\"postid_7442962418\">Estate sale Fri and Sat. Vintage tools</a>,\n",
       " <a class=\"result-title hdrlnk\" data-id=\"7440909512\" href=\"https://phoenix.craigslist.org/nph/gms/d/phoenix-large-yard-sale-11-thru-12/7440909512.html\" id=\"postid_7440909512\">Large yard sale 2/11 thru 2/12. Tools, vtg electronics  more</a>,\n",
       " <a class=\"result-title hdrlnk\" data-id=\"7443446109\" href=\"https://phoenix.craigslist.org/cph/gms/d/phoenix-estate-sale-arcadia-lite/7443446109.html\" id=\"postid_7443446109\">Estate Sale- Arcadia Lite</a>,\n",
       " <a class=\"result-title hdrlnk\" data-id=\"7442811540\" href=\"https://phoenix.craigslist.org/nph/gms/d/phoenix-huge-bedroom-estate-sale/7442811540.html\" id=\"postid_7442811540\">Huge 6 Bedroom Estate Sale</a>,\n",
       " <a class=\"result-title hdrlnk\" data-id=\"7443557657\" href=\"https://phoenix.craigslist.org/wvl/gms/d/peoria-garage-sale/7443557657.html\" id=\"postid_7443557657\">Garage Sale</a>,\n",
       " <a class=\"result-title hdrlnk\" data-id=\"7443592842\" href=\"https://phoenix.craigslist.org/evl/gms/d/mesa-estate-garage-sale/7443592842.html\" id=\"postid_7443592842\">Estate-garage sale</a>,\n",
       " <a class=\"result-title hdrlnk\" data-id=\"7443596623\" href=\"https://phoenix.craigslist.org/nph/gms/d/phoenix-moving-sale-high-end-items/7443596623.html\" id=\"postid_7443596623\">Moving Sale High End Items</a>,\n",
       " <a class=\"result-title hdrlnk\" data-id=\"7443619535\" href=\"https://phoenix.craigslist.org/evl/gms/d/mesa-estate-and-garage-sale/7443619535.html\" id=\"postid_7443619535\">Estate and garage sale</a>,\n",
       " <a class=\"result-title hdrlnk\" data-id=\"7443630232\" href=\"https://phoenix.craigslist.org/nph/gms/d/phoenix-estate-sale/7443630232.html\" id=\"postid_7443630232\">ESTATE SALE</a>,\n",
       " <a class=\"result-title hdrlnk\" data-id=\"7443662943\" href=\"https://phoenix.craigslist.org/nph/gms/d/scottsdale-huge-church-sale/7443662943.html\" id=\"postid_7443662943\">HUGE CHURCH SALE</a>,\n",
       " <a class=\"result-title hdrlnk\" data-id=\"7442449894\" href=\"https://phoenix.craigslist.org/nph/gms/d/phoenix-crafters-dream/7442449894.html\" id=\"postid_7442449894\">Crafters dream!</a>,\n",
       " <a class=\"result-title hdrlnk\" data-id=\"7439591056\" href=\"https://phoenix.craigslist.org/nph/gms/d/phoenix-speed-bag-stand35-four-wheels/7439591056.html\" id=\"postid_7439591056\">speed bag stand$35. Four wheels $150 Gold gym weights $40</a>,\n",
       " <a class=\"result-title hdrlnk\" data-id=\"7443528430\" href=\"https://phoenix.craigslist.org/wvl/gms/d/phoenix-carport-sale/7443528430.html\" id=\"postid_7443528430\">CARPORT SALE</a>,\n",
       " <a class=\"result-title hdrlnk\" data-id=\"7443953320\" href=\"https://phoenix.craigslist.org/wvl/gms/d/sun-city-west-huge-yard-and-plant-sale/7443953320.html\" id=\"postid_7443953320\">Huge Yard and Plant SALE</a>,\n",
       " <a class=\"result-title hdrlnk\" data-id=\"7444034924\" href=\"https://phoenix.craigslist.org/nph/gms/d/phoenix-huge-estate-sale/7444034924.html\" id=\"postid_7444034924\">HUGE estate sale 2/10, 11, 12</a>,\n",
       " <a class=\"result-title hdrlnk\" data-id=\"7442666811\" href=\"https://phoenix.craigslist.org/wvl/gms/d/sun-city-estate-sale/7442666811.html\" id=\"postid_7442666811\">Estate Sale</a>,\n",
       " <a class=\"result-title hdrlnk\" data-id=\"7444063257\" href=\"https://phoenix.craigslist.org/wvl/gms/d/palo-verde-huge-yard-sale/7444063257.html\" id=\"postid_7444063257\">huge yard sale</a>,\n",
       " <a class=\"result-title hdrlnk\" data-id=\"7444089826\" href=\"https://phoenix.craigslist.org/evl/gms/d/rio-verde-yard-estate-sale/7444089826.html\" id=\"postid_7444089826\">Yard/estate sale</a>,\n",
       " <a class=\"result-title hdrlnk\" data-id=\"7443808092\" href=\"https://phoenix.craigslist.org/wvl/gms/d/sun-city-west-patio-sale/7443808092.html\" id=\"postid_7443808092\">Patio Sale</a>,\n",
       " <a class=\"result-title hdrlnk\" data-id=\"7443928236\" href=\"https://phoenix.craigslist.org/wvl/gms/d/glendale-big-garage-sale/7443928236.html\" id=\"postid_7443928236\">Big Garage Sale!!!</a>,\n",
       " <a class=\"result-title hdrlnk\" data-id=\"7444053100\" href=\"https://phoenix.craigslist.org/evl/gms/d/mesa-multi-family-garage-sale-thursday/7444053100.html\" id=\"postid_7444053100\">multi family garage sale--thursday 2/10  7am</a>,\n",
       " <a class=\"result-title hdrlnk\" data-id=\"7441028255\" href=\"https://phoenix.craigslist.org/nph/gms/d/glendale-estate-salegarage-saleyard/7441028255.html\" id=\"postid_7441028255\">~ESTATE SALE!~GARAGE SALE~YARD SALE~Everything is For Sale!</a>,\n",
       " <a class=\"result-title hdrlnk\" data-id=\"7442605011\" href=\"https://phoenix.craigslist.org/evl/gms/d/gold-canyon-moving-sale/7442605011.html\" id=\"postid_7442605011\">Moving Sale</a>,\n",
       " <a class=\"result-title hdrlnk\" data-id=\"7443649101\" href=\"https://phoenix.craigslist.org/wvl/gms/d/sun-city-west-moving-sale/7443649101.html\" id=\"postid_7443649101\">Moving Sale -</a>,\n",
       " <a class=\"result-title hdrlnk\" data-id=\"7443658618\" href=\"https://phoenix.craigslist.org/wvl/gms/d/peoria-large-moving-sale/7443658618.html\" id=\"postid_7443658618\">Large moving sale!</a>,\n",
       " <a class=\"result-title hdrlnk\" data-id=\"7443665673\" href=\"https://phoenix.craigslist.org/evl/gms/d/tempe-moving-sale-many-items-come-get/7443665673.html\" id=\"postid_7443665673\">MOVING SALE: MANY ITEMS - COME GET THEM</a>,\n",
       " <a class=\"result-title hdrlnk\" data-id=\"7444093053\" href=\"https://phoenix.craigslist.org/evl/gms/d/mesa-patio-sales/7444093053.html\" id=\"postid_7444093053\">Patio sales</a>,\n",
       " <a class=\"result-title hdrlnk\" data-id=\"7444018876\" href=\"https://phoenix.craigslist.org/wvl/gms/d/luke-air-force-base-garage-sale/7444018876.html\" id=\"postid_7444018876\">Garage Sale</a>,\n",
       " <a class=\"result-title hdrlnk\" data-id=\"7443923617\" href=\"https://phoenix.craigslist.org/evl/gms/d/scottsdale-estate-garage-sale/7443923617.html\" id=\"postid_7443923617\">Estate Garage Sale:</a>,\n",
       " <a class=\"result-title hdrlnk\" data-id=\"7443979379\" href=\"https://phoenix.craigslist.org/evl/gms/d/mesa-yard-sale/7443979379.html\" id=\"postid_7443979379\">Yard Sale</a>,\n",
       " <a class=\"result-title hdrlnk\" data-id=\"7444069489\" href=\"https://phoenix.craigslist.org/evl/gms/d/mesa-multi-family-yard-sale/7444069489.html\" id=\"postid_7444069489\">Multi Family Yard Sale</a>,\n",
       " <a class=\"result-title hdrlnk\" data-id=\"7443959126\" href=\"https://phoenix.craigslist.org/evl/gms/d/mesa-yard-sale/7443959126.html\" id=\"postid_7443959126\">Yard sale</a>,\n",
       " <a class=\"result-title hdrlnk\" data-id=\"7442572439\" href=\"https://phoenix.craigslist.org/evl/gms/d/scottsdale-moving/7442572439.html\" id=\"postid_7442572439\">Moving, housold,antiques,vintage sale</a>,\n",
       " <a class=\"result-title hdrlnk\" data-id=\"7442244723\" href=\"https://phoenix.craigslist.org/evl/gms/d/higley-moving-sale/7442244723.html\" id=\"postid_7442244723\">Moving Sale</a>,\n",
       " <a class=\"result-title hdrlnk\" data-id=\"7442494648\" href=\"https://phoenix.craigslist.org/wvl/gms/d/sun-city-moving-garage-sale/7442494648.html\" id=\"postid_7442494648\">Moving/Garage Sale</a>,\n",
       " <a class=\"result-title hdrlnk\" data-id=\"7442637477\" href=\"https://phoenix.craigslist.org/nph/gms/d/phoenix-estate-liquidation-sale-7am-2pm/7442637477.html\" id=\"postid_7442637477\">Estate Liquidation Sale 7AM-2PM</a>,\n",
       " <a class=\"result-title hdrlnk\" data-id=\"7442719183\" href=\"https://phoenix.craigslist.org/evl/gms/d/apache-junction-huge-yard-sale/7442719183.html\" id=\"postid_7442719183\">Huge Yard Sale</a>,\n",
       " <a class=\"result-title hdrlnk\" data-id=\"7442907032\" href=\"https://phoenix.craigslist.org/evl/gms/d/mesa-moving-sale/7442907032.html\" id=\"postid_7442907032\">Moving Sale</a>,\n",
       " <a class=\"result-title hdrlnk\" data-id=\"7442962418\" href=\"https://phoenix.craigslist.org/evl/gms/d/scottsdale-estate-sale-fri-and-sat/7442962418.html\" id=\"postid_7442962418\">Estate sale Fri and Sat. Vintage tools</a>,\n",
       " <a class=\"result-title hdrlnk\" data-id=\"7440909512\" href=\"https://phoenix.craigslist.org/nph/gms/d/phoenix-large-yard-sale-11-thru-12/7440909512.html\" id=\"postid_7440909512\">Large yard sale 2/11 thru 2/12. Tools, vtg electronics  more</a>,\n",
       " <a class=\"result-title hdrlnk\" data-id=\"7443446109\" href=\"https://phoenix.craigslist.org/cph/gms/d/phoenix-estate-sale-arcadia-lite/7443446109.html\" id=\"postid_7443446109\">Estate Sale- Arcadia Lite</a>,\n",
       " <a class=\"result-title hdrlnk\" data-id=\"7442811540\" href=\"https://phoenix.craigslist.org/nph/gms/d/phoenix-huge-bedroom-estate-sale/7442811540.html\" id=\"postid_7442811540\">Huge 6 Bedroom Estate Sale</a>,\n",
       " <a class=\"result-title hdrlnk\" data-id=\"7443557657\" href=\"https://phoenix.craigslist.org/wvl/gms/d/peoria-garage-sale/7443557657.html\" id=\"postid_7443557657\">Garage Sale</a>,\n",
       " <a class=\"result-title hdrlnk\" data-id=\"7443592842\" href=\"https://phoenix.craigslist.org/evl/gms/d/mesa-estate-garage-sale/7443592842.html\" id=\"postid_7443592842\">Estate-garage sale</a>,\n",
       " <a class=\"result-title hdrlnk\" data-id=\"7443596623\" href=\"https://phoenix.craigslist.org/nph/gms/d/phoenix-moving-sale-high-end-items/7443596623.html\" id=\"postid_7443596623\">Moving Sale High End Items</a>,\n",
       " <a class=\"result-title hdrlnk\" data-id=\"7443619535\" href=\"https://phoenix.craigslist.org/evl/gms/d/mesa-estate-and-garage-sale/7443619535.html\" id=\"postid_7443619535\">Estate and garage sale</a>,\n",
       " <a class=\"result-title hdrlnk\" data-id=\"7443630232\" href=\"https://phoenix.craigslist.org/nph/gms/d/phoenix-estate-sale/7443630232.html\" id=\"postid_7443630232\">ESTATE SALE</a>,\n",
       " <a class=\"result-title hdrlnk\" data-id=\"7443662943\" href=\"https://phoenix.craigslist.org/nph/gms/d/scottsdale-huge-church-sale/7443662943.html\" id=\"postid_7443662943\">HUGE CHURCH SALE</a>,\n",
       " <a class=\"result-title hdrlnk\" data-id=\"7443932117\" href=\"https://phoenix.craigslist.org/evl/gms/d/chandler-annual-model-ford-club-of/7443932117.html\" id=\"postid_7443932117\">Annual Model A Ford Club of Arizona Swap Meet February 12</a>,\n",
       " <a class=\"result-title hdrlnk\" data-id=\"7443416015\" href=\"https://phoenix.craigslist.org/cph/gms/d/sun-city-west-saturday-february-12th/7443416015.html\" id=\"postid_7443416015\">SATURDAY, February 12th - COMMUNITY GARAGE SALE</a>,\n",
       " <a class=\"result-title hdrlnk\" data-id=\"7440981757\" href=\"https://phoenix.craigslist.org/evl/gms/d/mesa-garage-estate-sale/7440981757.html\" id=\"postid_7440981757\">Garage/estate. sale</a>,\n",
       " <a class=\"result-title hdrlnk\" data-id=\"7443999977\" href=\"https://phoenix.craigslist.org/cph/gms/d/phoenix-instruments-collectibles-amp/7443999977.html\" id=\"postid_7443999977\">Instruments, Collectibles &amp; Amp; Guitars, Guitars, Guitars</a>,\n",
       " <a class=\"result-title hdrlnk\" data-id=\"7444076551\" href=\"https://phoenix.craigslist.org/evl/gms/d/mesa-patio-downsizing-sale/7444076551.html\" id=\"postid_7444076551\">PATIO DOWNSIZING SALE</a>,\n",
       " <a class=\"result-title hdrlnk\" data-id=\"7441572873\" href=\"https://phoenix.craigslist.org/evl/gms/d/mesa-garage-moving-sale/7441572873.html\" id=\"postid_7441572873\">Garage / Moving Sale</a>,\n",
       " <a class=\"result-title hdrlnk\" data-id=\"7442356384\" href=\"https://phoenix.craigslist.org/cph/gms/d/phoenix-garage-sale/7442356384.html\" id=\"postid_7442356384\">GARAGE SALE</a>,\n",
       " <a class=\"result-title hdrlnk\" data-id=\"7431388594\" href=\"https://phoenix.craigslist.org/evl/gms/d/mesa-february-12th-2022-multi-vendor/7431388594.html\" id=\"postid_7431388594\">FEBRUARY 12th,  2022 Multi-Vendor Flea Market/Parking Lot Sale</a>,\n",
       " <a class=\"result-title hdrlnk\" data-id=\"7442596848\" href=\"https://phoenix.craigslist.org/evl/gms/d/mesa-moving-across-country-sale/7442596848.html\" id=\"postid_7442596848\">MOVING ACROSS COUNTRY SALE</a>,\n",
       " <a class=\"result-title hdrlnk\" data-id=\"7443002439\" href=\"https://phoenix.craigslist.org/wvl/gms/d/peoria-estate-sale/7443002439.html\" id=\"postid_7443002439\">ESTATE SALE</a>,\n",
       " <a class=\"result-title hdrlnk\" data-id=\"7443116455\" href=\"https://phoenix.craigslist.org/nph/gms/d/rio-verde-moving-sale/7443116455.html\" id=\"postid_7443116455\">Moving Sale</a>,\n",
       " <a class=\"result-title hdrlnk\" data-id=\"7441234955\" href=\"https://phoenix.craigslist.org/nph/gms/d/phoenix-garage-sale-feb-12/7441234955.html\" id=\"postid_7441234955\">Garage Sale Feb 12</a>,\n",
       " <a class=\"result-title hdrlnk\" data-id=\"7439652051\" href=\"https://phoenix.craigslist.org/nph/gms/d/phoenix-spring-cleaning-garage-sale-feb/7439652051.html\" id=\"postid_7439652051\">spring cleaning garage sale Feb 12</a>,\n",
       " <a class=\"result-title hdrlnk\" data-id=\"7443295131\" href=\"https://phoenix.craigslist.org/wvl/gms/d/phoenix-saturday-garage-sale/7443295131.html\" id=\"postid_7443295131\">Saturday Garage Sale</a>,\n",
       " <a class=\"result-title hdrlnk\" data-id=\"7443345286\" href=\"https://phoenix.craigslist.org/evl/gms/d/eloy-garage-sale/7443345286.html\" id=\"postid_7443345286\">Garage sale</a>,\n",
       " <a class=\"result-title hdrlnk\" data-id=\"7443486007\" href=\"https://phoenix.craigslist.org/nph/gms/d/phoenix-garage-sale-this-saturday/7443486007.html\" id=\"postid_7443486007\">Garage Sale this Saturday!</a>,\n",
       " <a class=\"result-title hdrlnk\" data-id=\"7443581305\" href=\"https://phoenix.craigslist.org/wvl/gms/d/wickenburg-yard-sale-one-day-only-huge/7443581305.html\" id=\"postid_7443581305\">Yard Sale One Day Only Huge 3 Container Clean Out Saturday 2/12/2022</a>,\n",
       " <a class=\"result-title hdrlnk\" data-id=\"7442746765\" href=\"https://phoenix.craigslist.org/evl/gms/d/mesa-community-yard-sale/7442746765.html\" id=\"postid_7442746765\">Community yard sale</a>,\n",
       " <a class=\"result-title hdrlnk\" data-id=\"7443603641\" href=\"https://phoenix.craigslist.org/nph/gms/d/phoenix-garage-sale-saturday-only/7443603641.html\" id=\"postid_7443603641\">Garage sale -- Saturday only</a>,\n",
       " <a class=\"result-title hdrlnk\" data-id=\"7443646998\" href=\"https://phoenix.craigslist.org/evl/gms/d/florence-community-yard-sale/7443646998.html\" id=\"postid_7443646998\">Community Yard Sale</a>,\n",
       " <a class=\"result-title hdrlnk\" data-id=\"7441518256\" href=\"https://phoenix.craigslist.org/evl/gms/d/chandler-estate-sale-yard-garage-sale/7441518256.html\" id=\"postid_7441518256\">Estate Sale, Yard, Garage Sale Chandler</a>,\n",
       " <a class=\"result-title hdrlnk\" data-id=\"7443701846\" href=\"https://phoenix.craigslist.org/evl/gms/d/scottsdale-sale/7443701846.html\" id=\"postid_7443701846\">Sale</a>,\n",
       " <a class=\"result-title hdrlnk\" data-id=\"7442449894\" href=\"https://phoenix.craigslist.org/nph/gms/d/phoenix-crafters-dream/7442449894.html\" id=\"postid_7442449894\">Crafters dream!</a>,\n",
       " <a class=\"result-title hdrlnk\" data-id=\"7441429504\" href=\"https://phoenix.craigslist.org/wvl/gms/d/surprise-single-car-garage-door/7441429504.html\" id=\"postid_7441429504\">Single car garage door</a>,\n",
       " <a class=\"result-title hdrlnk\" data-id=\"7441914080\" href=\"https://phoenix.craigslist.org/wvl/gms/d/peoria-moving-sale/7441914080.html\" id=\"postid_7441914080\">MOVING SALE</a>,\n",
       " <a class=\"result-title hdrlnk\" data-id=\"7442907032\" href=\"https://phoenix.craigslist.org/evl/gms/d/mesa-moving-sale/7442907032.html\" id=\"postid_7442907032\">Moving Sale</a>,\n",
       " <a class=\"result-title hdrlnk\" data-id=\"7440981757\" href=\"https://phoenix.craigslist.org/evl/gms/d/mesa-garage-estate-sale/7440981757.html\" id=\"postid_7440981757\">Garage/estate. sale</a>,\n",
       " <a class=\"result-title hdrlnk\" data-id=\"7443999977\" href=\"https://phoenix.craigslist.org/cph/gms/d/phoenix-instruments-collectibles-amp/7443999977.html\" id=\"postid_7443999977\">Instruments, Collectibles &amp; Amp; Guitars, Guitars, Guitars</a>,\n",
       " <a class=\"result-title hdrlnk\" data-id=\"7443002439\" href=\"https://phoenix.craigslist.org/wvl/gms/d/peoria-estate-sale/7443002439.html\" id=\"postid_7443002439\">ESTATE SALE</a>,\n",
       " <a class=\"result-title hdrlnk\" data-id=\"7440039032\" href=\"https://phoenix.craigslist.org/nph/gms/d/phoenix-mega-moving-sale-all-items-high/7440039032.html\" id=\"postid_7440039032\">Mega Moving Sale: All Items High-Quality Like-New Condition!</a>,\n",
       " <a class=\"result-title hdrlnk\" data-id=\"7443706632\" href=\"https://phoenix.craigslist.org/nph/gms/d/phoenix-fundraiser-garage-sale/7443706632.html\" id=\"postid_7443706632\">Fundraiser Garage Sale</a>,\n",
       " <a class=\"result-title hdrlnk\" data-id=\"7442738689\" href=\"https://phoenix.craigslist.org/cph/gms/d/coolidge-lots-of-random-stuff-come-take/7442738689.html\" id=\"postid_7442738689\">Lots of random stuff. Come take a look</a>,\n",
       " <a class=\"result-title hdrlnk\" data-id=\"7443739233\" href=\"https://phoenix.craigslist.org/evl/gms/d/tempe-carpet-cleaning-special/7443739233.html\" id=\"postid_7443739233\">Carpet cleaning special</a>,\n",
       " <a class=\"result-title hdrlnk\" data-id=\"7443596623\" href=\"https://phoenix.craigslist.org/nph/gms/d/phoenix-moving-sale-high-end-items/7443596623.html\" id=\"postid_7443596623\">Moving Sale High End Items</a>,\n",
       " <a class=\"result-title hdrlnk\" data-id=\"7444107475\" href=\"https://phoenix.craigslist.org/evl/gms/d/mesa-estate-moving-sale/7444107475.html\" id=\"postid_7444107475\">Estate/ Moving Sale</a>,\n",
       " <a class=\"result-title hdrlnk\" data-id=\"7442288487\" href=\"https://phoenix.craigslist.org/wvl/gms/d/surprise-yard-sale-hand-tools-and/7442288487.html\" id=\"postid_7442288487\">Yard Sale - hand tools and houshold items</a>,\n",
       " <a class=\"result-title hdrlnk\" data-id=\"7444107475\" href=\"https://phoenix.craigslist.org/evl/gms/d/mesa-estate-moving-sale/7444107475.html\" id=\"postid_7444107475\">Estate/ Moving Sale</a>,\n",
       " <a class=\"result-title hdrlnk\" data-id=\"7442288487\" href=\"https://phoenix.craigslist.org/wvl/gms/d/surprise-yard-sale-hand-tools-and/7442288487.html\" id=\"postid_7442288487\">Yard Sale - hand tools and houshold items</a>,\n",
       " <a class=\"result-title hdrlnk\" data-id=\"7433280744\" href=\"https://phoenix.craigslist.org/nph/gms/d/phoenix-multi-family-yard-sale-estate/7433280744.html\" id=\"postid_7433280744\">**Multi Family Yard Sale + Estate Sale + Garage Sale + Moving Sale**</a>,\n",
       " <a class=\"result-title hdrlnk\" data-id=\"7444107475\" href=\"https://phoenix.craigslist.org/evl/gms/d/mesa-estate-moving-sale/7444107475.html\" id=\"postid_7444107475\">Estate/ Moving Sale</a>,\n",
       " <a class=\"result-title hdrlnk\" data-id=\"7433280744\" href=\"https://phoenix.craigslist.org/nph/gms/d/phoenix-multi-family-yard-sale-estate/7433280744.html\" id=\"postid_7433280744\">**Multi Family Yard Sale + Estate Sale + Garage Sale + Moving Sale**</a>,\n",
       " <a class=\"result-title hdrlnk\" data-id=\"7442402862\" href=\"https://phoenix.craigslist.org/evl/gms/d/mesa-huge-garage-sale/7442402862.html\" id=\"postid_7442402862\">Huge garage sale</a>,\n",
       " <a class=\"result-title hdrlnk\" data-id=\"7443602342\" href=\"https://phoenix.craigslist.org/evl/gms/d/scottsdale-miscellaneous-estate-sale/7443602342.html\" id=\"postid_7443602342\">Miscellaneous estate sale/furniture</a>,\n",
       " <a class=\"result-title hdrlnk\" data-id=\"7440039032\" href=\"https://phoenix.craigslist.org/nph/gms/d/phoenix-mega-moving-sale-all-items-high/7440039032.html\" id=\"postid_7440039032\">Mega Moving Sale: All Items High-Quality Like-New Condition!</a>,\n",
       " <a class=\"result-title hdrlnk\" data-id=\"7433280744\" href=\"https://phoenix.craigslist.org/nph/gms/d/phoenix-multi-family-yard-sale-estate/7433280744.html\" id=\"postid_7433280744\">**Multi Family Yard Sale + Estate Sale + Garage Sale + Moving Sale**</a>,\n",
       " <a class=\"result-title hdrlnk\" data-id=\"7442402862\" href=\"https://phoenix.craigslist.org/evl/gms/d/mesa-huge-garage-sale/7442402862.html\" id=\"postid_7442402862\">Huge garage sale</a>,\n",
       " <a class=\"result-title hdrlnk\" data-id=\"7444075906\" href=\"https://phoenix.craigslist.org/wvl/gms/d/palo-verde-estate-moving-sale/7444075906.html\" id=\"postid_7444075906\">Estate / Moving Sale! EVERYTHING to go!</a>,\n",
       " <a class=\"result-title hdrlnk\" data-id=\"7443752695\" href=\"https://prescott.craigslist.org/gms/d/prescott-clean-full-mattress-and-box/7443752695.html\" id=\"postid_7443752695\">Clean Full Mattress and Box Springs and Twin Box Springs</a>,\n",
       " <a class=\"result-title hdrlnk\" data-id=\"7444073189\" href=\"https://prescott.craigslist.org/gms/d/prescott-valley-moving/7444073189.html\" id=\"postid_7444073189\">Moving SaleBy(AHiddenTreasure)</a>,\n",
       " <a class=\"result-title hdrlnk\" data-id=\"7444006534\" href=\"https://prescott.craigslist.org/gms/d/prescott-big-sale-friday-only/7444006534.html\" id=\"postid_7444006534\">Big Sale Friday only</a>,\n",
       " <a class=\"result-title hdrlnk\" data-id=\"7439757806\" href=\"https://tucson.craigslist.org/gms/d/tucson-garden-tools-cheap-moving-soon/7439757806.html\" id=\"postid_7439757806\">Garden tools, cheap! Moving soon. Must go - Ideal for Spring planting.</a>,\n",
       " <a class=\"result-title hdrlnk\" data-id=\"7442987250\" href=\"https://tucson.craigslist.org/gms/d/coolidge-lost-of-random-stuff-come-take/7442987250.html\" id=\"postid_7442987250\">Lost of random stuff. Come take a look</a>,\n",
       " <a class=\"result-title hdrlnk\" data-id=\"7430915672\" href=\"https://tucson.craigslist.org/gms/d/tucson-new-year-countertop-sale/7430915672.html\" id=\"postid_7430915672\">New Year Countertop Sale---starting Feb 8th</a>,\n",
       " <a class=\"result-title hdrlnk\" data-id=\"7432738934\" href=\"https://tucson.craigslist.org/gms/d/tucson-thrift-store-going-out-of/7432738934.html\" id=\"postid_7432738934\">Thrift store going out of business everything must go</a>,\n",
       " <a class=\"result-title hdrlnk\" data-id=\"7443930385\" href=\"https://tucson.craigslist.org/gms/d/tucson-grasons-co-of-southern-az/7443930385.html\" id=\"postid_7443930385\">Grasons Co of Southern AZ: Business Liquidation Thurs-Fri Feb 10-11</a>,\n",
       " <a class=\"result-title hdrlnk\" data-id=\"7443879536\" href=\"https://tucson.craigslist.org/gms/d/tucson-yard-sale-2508-sycamore-blvd/7443879536.html\" id=\"postid_7443879536\">Yard sale 2508 n. Sycamore blvd</a>,\n",
       " <a class=\"result-title hdrlnk\" data-id=\"7442720083\" href=\"https://tucson.craigslist.org/gms/d/green-valley-household-garage-sale/7442720083.html\" id=\"postid_7442720083\">3 household garage sale</a>,\n",
       " <a class=\"result-title hdrlnk\" data-id=\"7443637463\" href=\"https://tucson.craigslist.org/gms/d/green-valley-garage-sale/7443637463.html\" id=\"postid_7443637463\">Garage Sale</a>,\n",
       " <a class=\"result-title hdrlnk\" data-id=\"7444130797\" href=\"https://tucson.craigslist.org/gms/d/tucson-huge-sale-do-not-miss/7444130797.html\" id=\"postid_7444130797\">Huge Sale Do Not Miss</a>,\n",
       " <a class=\"result-title hdrlnk\" data-id=\"7444061895\" href=\"https://tucson.craigslist.org/gms/d/tucson-garage-sale/7444061895.html\" id=\"postid_7444061895\">Garage Sale</a>,\n",
       " <a class=\"result-title hdrlnk\" data-id=\"7443926357\" href=\"https://tucson.craigslist.org/gms/d/tucson-yard-sale/7443926357.html\" id=\"postid_7443926357\">YARD SALE</a>,\n",
       " <a class=\"result-title hdrlnk\" data-id=\"7442680677\" href=\"https://tucson.craigslist.org/gms/d/tucson-yard-sale-11-and-12-east-side/7442680677.html\" id=\"postid_7442680677\">Yard sale 2/11 and 2/12 east side huge</a>,\n",
       " <a class=\"result-title hdrlnk\" data-id=\"7439694877\" href=\"https://tucson.craigslist.org/gms/d/tucson-yard-sale/7439694877.html\" id=\"postid_7439694877\">yard sale</a>,\n",
       " <a class=\"result-title hdrlnk\" data-id=\"7442894202\" href=\"https://tucson.craigslist.org/gms/d/tucson-top-hat-estate-sales-fri-sat/7442894202.html\" id=\"postid_7442894202\">TOP HAT ESTATE SALES Fri-Sat</a>,\n",
       " <a class=\"result-title hdrlnk\" data-id=\"7443872393\" href=\"https://tucson.craigslist.org/gms/d/green-valley-estate-sale/7443872393.html\" id=\"postid_7443872393\">Estate Sale</a>,\n",
       " <a class=\"result-title hdrlnk\" data-id=\"7444015786\" href=\"https://tucson.craigslist.org/gms/d/tucson-estate-sale/7444015786.html\" id=\"postid_7444015786\">Estate Sale</a>,\n",
       " <a class=\"result-title hdrlnk\" data-id=\"7443132088\" href=\"https://flagstaff.craigslist.org/gms/d/cornville-moving-sale/7443132088.html\" id=\"postid_7443132088\">Moving sale</a>,\n",
       " <a class=\"result-title hdrlnk\" data-id=\"7437840500\" href=\"https://flagstaff.craigslist.org/gms/d/sedona-moving-must-sell-furniture-by/7437840500.html\" id=\"postid_7437840500\">Moving - Must Sell Furniture - By Appointment Now</a>,\n",
       " <a class=\"result-title hdrlnk\" data-id=\"7443910492\" href=\"https://flagstaff.craigslist.org/gms/d/cornville-estate-sale12th-st-cottonwood/7443910492.html\" id=\"postid_7443910492\">Estate Sale….12th St Cottonwood</a>,\n",
       " <a class=\"result-title hdrlnk\" data-id=\"7443744693\" href=\"https://flagstaff.craigslist.org/gms/d/flagstaff-huge-fire-sale-off/7443744693.html\" id=\"postid_7443744693\">Huge Fire Sale!! 25% - 40% OFF</a>,\n",
       " <a class=\"result-title hdrlnk\" data-id=\"7443766037\" href=\"https://showlow.craigslist.org/gms/d/white-mountain-lake-garage-sale/7443766037.html\" id=\"postid_7443766037\">GARAGE SALE</a>,\n",
       " <a class=\"result-title hdrlnk\" data-id=\"7443973633\" href=\"https://showlow.craigslist.org/gms/d/white-mountain-lake-winter-garage-sale/7443973633.html\" id=\"postid_7443973633\">WINTER GARAGE SALE</a>,\n",
       " <a class=\"result-title hdrlnk\" data-id=\"7443580305\" href=\"https://yuma.craigslist.org/gms/d/yuma-escape-sale/7443580305.html\" id=\"postid_7443580305\">ESCAPE SALE</a>,\n",
       " <a class=\"result-title hdrlnk\" data-id=\"7444126935\" href=\"https://yuma.craigslist.org/gms/d/yuma-multi-party-yard-sale-19-tables/7444126935.html\" id=\"postid_7444126935\">Multi Party Yard Sale /19 tables 12633 E 37th St. Yuma foothills</a>,\n",
       " <a class=\"result-title hdrlnk\" data-id=\"7444100778\" href=\"https://yuma.craigslist.org/gms/d/yuma-yard-sale-thurs/7444100778.html\" id=\"postid_7444100778\">Yard sale THURS 2/10/22</a>,\n",
       " <a class=\"result-title hdrlnk\" data-id=\"7440553920\" href=\"https://yuma.craigslist.org/gms/d/yuma-garage-sale/7440553920.html\" id=\"postid_7440553920\">GARAGE SALE!!</a>,\n",
       " <a class=\"result-title hdrlnk\" data-id=\"7443989712\" href=\"https://yuma.craigslist.org/gms/d/yuma-yard-sale/7443989712.html\" id=\"postid_7443989712\">YARD SALE</a>,\n",
       " <a class=\"result-title hdrlnk\" data-id=\"7443998504\" href=\"https://yuma.craigslist.org/gms/d/yuma-yard-sale/7443998504.html\" id=\"postid_7443998504\">Yard sale!</a>,\n",
       " <a class=\"result-title hdrlnk\" data-id=\"7444068119\" href=\"https://yuma.craigslist.org/gms/d/yuma-garage-sale/7444068119.html\" id=\"postid_7444068119\">Garage sale</a>,\n",
       " <a class=\"result-title hdrlnk\" data-id=\"7443602566\" href=\"https://yuma.craigslist.org/gms/d/yuma-neighbor-yard-sales/7443602566.html\" id=\"postid_7443602566\">2 Neighbor Yard Sales</a>,\n",
       " <a class=\"result-title hdrlnk\" data-id=\"7442166368\" href=\"https://yuma.craigslist.org/gms/d/yuma-yard-sale/7442166368.html\" id=\"postid_7442166368\">Yard Sale</a>,\n",
       " <a class=\"result-title hdrlnk\" data-id=\"7443184122\" href=\"https://yuma.craigslist.org/gms/d/yuma-huge-estate-sale/7443184122.html\" id=\"postid_7443184122\">Huge Estate Sale</a>,\n",
       " <a class=\"result-title hdrlnk\" data-id=\"7444064411\" href=\"https://yuma.craigslist.org/gms/d/yuma-estate-sale/7444064411.html\" id=\"postid_7444064411\">Estate Sale</a>,\n",
       " <a class=\"result-title hdrlnk\" data-id=\"7443784382\" href=\"https://yuma.craigslist.org/gms/d/yuma-garage-sale/7443784382.html\" id=\"postid_7443784382\">garage sale</a>,\n",
       " <a class=\"result-title hdrlnk\" data-id=\"7443779812\" href=\"https://sierravista.craigslist.org/gms/d/sierra-vista-moving-sale/7443779812.html\" id=\"postid_7443779812\">Moving Sale</a>]"
      ]
     },
     "execution_count": 15,
     "metadata": {},
     "output_type": "execute_result"
    }
   ],
   "source": [
    "links = bs.find_all(class_='result-title hdrlnk')\n",
    "links"
   ]
  },
  {
   "cell_type": "code",
   "execution_count": 16,
   "id": "94fbaf59",
   "metadata": {},
   "outputs": [
    {
     "data": {
      "text/plain": [
       "'https://phoenix.craigslist.org/nph/gms/d/phoenix-chevy-wheels-lb-10-lb-weights/7439457025.html'"
      ]
     },
     "execution_count": 16,
     "metadata": {},
     "output_type": "execute_result"
    }
   ],
   "source": [
    "links[1]['href']"
   ]
  },
  {
   "cell_type": "markdown",
   "id": "51712526",
   "metadata": {},
   "source": [
    "Got it! Now to make our for loop."
   ]
  },
  {
   "cell_type": "code",
   "execution_count": 19,
   "id": "c1b0da51",
   "metadata": {},
   "outputs": [
    {
     "name": "stdout",
     "output_type": "stream",
     "text": [
      "getting https://phoenix.craigslist.org/nph/gms/d/phoenix-reduced-kids-motorized-frozen/7442684354.html\n"
     ]
    },
    {
     "name": "stderr",
     "output_type": "stream",
     "text": [
      "/tmp/ipykernel_4746/609372375.py:7: FutureWarning: The frame.append method is deprecated and will be removed from pandas in a future version. Use pandas.concat instead.\n",
      "  df = df.append(post,ignore_index=True)\n"
     ]
    },
    {
     "name": "stdout",
     "output_type": "stream",
     "text": [
      "getting https://phoenix.craigslist.org/nph/gms/d/phoenix-chevy-wheels-lb-10-lb-weights/7439457025.html\n"
     ]
    },
    {
     "name": "stderr",
     "output_type": "stream",
     "text": [
      "/tmp/ipykernel_4746/609372375.py:7: FutureWarning: The frame.append method is deprecated and will be removed from pandas in a future version. Use pandas.concat instead.\n",
      "  df = df.append(post,ignore_index=True)\n"
     ]
    },
    {
     "name": "stdout",
     "output_type": "stream",
     "text": [
      "getting https://phoenix.craigslist.org/nph/gms/d/phoenix-garage-sale-thursday-friday-feb/7444018225.html\n"
     ]
    },
    {
     "name": "stderr",
     "output_type": "stream",
     "text": [
      "/tmp/ipykernel_4746/609372375.py:7: FutureWarning: The frame.append method is deprecated and will be removed from pandas in a future version. Use pandas.concat instead.\n",
      "  df = df.append(post,ignore_index=True)\n"
     ]
    },
    {
     "name": "stdout",
     "output_type": "stream",
     "text": [
      "getting https://phoenix.craigslist.org/wvl/gms/d/sun-city-west-huge-yard-and-plant-sale/7443953320.html\n"
     ]
    },
    {
     "name": "stderr",
     "output_type": "stream",
     "text": [
      "/tmp/ipykernel_4746/609372375.py:7: FutureWarning: The frame.append method is deprecated and will be removed from pandas in a future version. Use pandas.concat instead.\n",
      "  df = df.append(post,ignore_index=True)\n"
     ]
    },
    {
     "name": "stdout",
     "output_type": "stream",
     "text": [
      "getting https://phoenix.craigslist.org/nph/gms/d/phoenix-huge-estate-sale/7444034924.html\n"
     ]
    },
    {
     "name": "stderr",
     "output_type": "stream",
     "text": [
      "/tmp/ipykernel_4746/609372375.py:7: FutureWarning: The frame.append method is deprecated and will be removed from pandas in a future version. Use pandas.concat instead.\n",
      "  df = df.append(post,ignore_index=True)\n"
     ]
    },
    {
     "name": "stdout",
     "output_type": "stream",
     "text": [
      "getting https://phoenix.craigslist.org/wvl/gms/d/sun-city-estate-sale/7442666811.html\n"
     ]
    },
    {
     "name": "stderr",
     "output_type": "stream",
     "text": [
      "/tmp/ipykernel_4746/609372375.py:7: FutureWarning: The frame.append method is deprecated and will be removed from pandas in a future version. Use pandas.concat instead.\n",
      "  df = df.append(post,ignore_index=True)\n"
     ]
    },
    {
     "name": "stdout",
     "output_type": "stream",
     "text": [
      "getting https://phoenix.craigslist.org/wvl/gms/d/palo-verde-huge-yard-sale/7444063257.html\n"
     ]
    },
    {
     "name": "stderr",
     "output_type": "stream",
     "text": [
      "/tmp/ipykernel_4746/609372375.py:7: FutureWarning: The frame.append method is deprecated and will be removed from pandas in a future version. Use pandas.concat instead.\n",
      "  df = df.append(post,ignore_index=True)\n"
     ]
    },
    {
     "name": "stdout",
     "output_type": "stream",
     "text": [
      "getting https://phoenix.craigslist.org/evl/gms/d/rio-verde-yard-estate-sale/7444089826.html\n"
     ]
    },
    {
     "name": "stderr",
     "output_type": "stream",
     "text": [
      "/tmp/ipykernel_4746/609372375.py:7: FutureWarning: The frame.append method is deprecated and will be removed from pandas in a future version. Use pandas.concat instead.\n",
      "  df = df.append(post,ignore_index=True)\n"
     ]
    },
    {
     "name": "stdout",
     "output_type": "stream",
     "text": [
      "getting https://phoenix.craigslist.org/wvl/gms/d/sun-city-west-patio-sale/7443808092.html\n"
     ]
    },
    {
     "name": "stderr",
     "output_type": "stream",
     "text": [
      "/tmp/ipykernel_4746/609372375.py:7: FutureWarning: The frame.append method is deprecated and will be removed from pandas in a future version. Use pandas.concat instead.\n",
      "  df = df.append(post,ignore_index=True)\n"
     ]
    },
    {
     "name": "stdout",
     "output_type": "stream",
     "text": [
      "getting https://phoenix.craigslist.org/wvl/gms/d/sun-city-west-moving-sale/7444046776.html\n"
     ]
    },
    {
     "name": "stderr",
     "output_type": "stream",
     "text": [
      "/tmp/ipykernel_4746/609372375.py:7: FutureWarning: The frame.append method is deprecated and will be removed from pandas in a future version. Use pandas.concat instead.\n",
      "  df = df.append(post,ignore_index=True)\n"
     ]
    },
    {
     "name": "stdout",
     "output_type": "stream",
     "text": [
      "getting https://phoenix.craigslist.org/wvl/gms/d/glendale-big-garage-sale/7443928236.html\n"
     ]
    },
    {
     "name": "stderr",
     "output_type": "stream",
     "text": [
      "/tmp/ipykernel_4746/609372375.py:7: FutureWarning: The frame.append method is deprecated and will be removed from pandas in a future version. Use pandas.concat instead.\n",
      "  df = df.append(post,ignore_index=True)\n"
     ]
    },
    {
     "name": "stdout",
     "output_type": "stream",
     "text": [
      "getting https://phoenix.craigslist.org/evl/gms/d/mesa-multi-family-garage-sale-thursday/7444053100.html\n"
     ]
    },
    {
     "name": "stderr",
     "output_type": "stream",
     "text": [
      "/tmp/ipykernel_4746/609372375.py:7: FutureWarning: The frame.append method is deprecated and will be removed from pandas in a future version. Use pandas.concat instead.\n",
      "  df = df.append(post,ignore_index=True)\n"
     ]
    },
    {
     "name": "stdout",
     "output_type": "stream",
     "text": [
      "getting https://phoenix.craigslist.org/nph/gms/d/glendale-estate-salegarage-saleyard/7441028255.html\n"
     ]
    },
    {
     "name": "stderr",
     "output_type": "stream",
     "text": [
      "/tmp/ipykernel_4746/609372375.py:7: FutureWarning: The frame.append method is deprecated and will be removed from pandas in a future version. Use pandas.concat instead.\n",
      "  df = df.append(post,ignore_index=True)\n"
     ]
    },
    {
     "name": "stdout",
     "output_type": "stream",
     "text": [
      "getting https://phoenix.craigslist.org/wvl/gms/d/peoria-moving-sale/7441914080.html\n"
     ]
    },
    {
     "name": "stderr",
     "output_type": "stream",
     "text": [
      "/tmp/ipykernel_4746/609372375.py:7: FutureWarning: The frame.append method is deprecated and will be removed from pandas in a future version. Use pandas.concat instead.\n",
      "  df = df.append(post,ignore_index=True)\n"
     ]
    },
    {
     "name": "stdout",
     "output_type": "stream",
     "text": [
      "getting https://phoenix.craigslist.org/evl/gms/d/gold-canyon-moving-sale/7442605011.html\n"
     ]
    },
    {
     "name": "stderr",
     "output_type": "stream",
     "text": [
      "/tmp/ipykernel_4746/609372375.py:7: FutureWarning: The frame.append method is deprecated and will be removed from pandas in a future version. Use pandas.concat instead.\n",
      "  df = df.append(post,ignore_index=True)\n"
     ]
    },
    {
     "name": "stdout",
     "output_type": "stream",
     "text": [
      "getting https://phoenix.craigslist.org/wvl/gms/d/sun-city-west-moving-sale/7443649101.html\n"
     ]
    },
    {
     "name": "stderr",
     "output_type": "stream",
     "text": [
      "/tmp/ipykernel_4746/609372375.py:7: FutureWarning: The frame.append method is deprecated and will be removed from pandas in a future version. Use pandas.concat instead.\n",
      "  df = df.append(post,ignore_index=True)\n"
     ]
    },
    {
     "name": "stdout",
     "output_type": "stream",
     "text": [
      "getting https://phoenix.craigslist.org/wvl/gms/d/peoria-large-moving-sale/7443658618.html\n"
     ]
    },
    {
     "name": "stderr",
     "output_type": "stream",
     "text": [
      "/tmp/ipykernel_4746/609372375.py:7: FutureWarning: The frame.append method is deprecated and will be removed from pandas in a future version. Use pandas.concat instead.\n",
      "  df = df.append(post,ignore_index=True)\n"
     ]
    },
    {
     "name": "stdout",
     "output_type": "stream",
     "text": [
      "getting https://phoenix.craigslist.org/evl/gms/d/tempe-moving-sale-many-items-come-get/7443665673.html\n"
     ]
    },
    {
     "name": "stderr",
     "output_type": "stream",
     "text": [
      "/tmp/ipykernel_4746/609372375.py:7: FutureWarning: The frame.append method is deprecated and will be removed from pandas in a future version. Use pandas.concat instead.\n",
      "  df = df.append(post,ignore_index=True)\n"
     ]
    },
    {
     "name": "stdout",
     "output_type": "stream",
     "text": [
      "getting https://phoenix.craigslist.org/cph/gms/d/phoenix-everything-must-go/7439354831.html\n"
     ]
    },
    {
     "name": "stderr",
     "output_type": "stream",
     "text": [
      "/tmp/ipykernel_4746/609372375.py:7: FutureWarning: The frame.append method is deprecated and will be removed from pandas in a future version. Use pandas.concat instead.\n",
      "  df = df.append(post,ignore_index=True)\n"
     ]
    },
    {
     "name": "stdout",
     "output_type": "stream",
     "text": [
      "getting https://phoenix.craigslist.org/nph/gms/d/phoenix-speed-bag-stand35-four-wheels/7439591056.html\n"
     ]
    },
    {
     "name": "stderr",
     "output_type": "stream",
     "text": [
      "/tmp/ipykernel_4746/609372375.py:7: FutureWarning: The frame.append method is deprecated and will be removed from pandas in a future version. Use pandas.concat instead.\n",
      "  df = df.append(post,ignore_index=True)\n"
     ]
    },
    {
     "name": "stdout",
     "output_type": "stream",
     "text": [
      "getting https://phoenix.craigslist.org/wvl/gms/d/phoenix-carport-sale/7443528430.html\n"
     ]
    },
    {
     "name": "stderr",
     "output_type": "stream",
     "text": [
      "/tmp/ipykernel_4746/609372375.py:7: FutureWarning: The frame.append method is deprecated and will be removed from pandas in a future version. Use pandas.concat instead.\n",
      "  df = df.append(post,ignore_index=True)\n"
     ]
    },
    {
     "name": "stdout",
     "output_type": "stream",
     "text": [
      "getting https://phoenix.craigslist.org/nph/gms/d/phoenix-yard-sale-yard-sale/7443723006.html\n"
     ]
    },
    {
     "name": "stderr",
     "output_type": "stream",
     "text": [
      "/tmp/ipykernel_4746/609372375.py:7: FutureWarning: The frame.append method is deprecated and will be removed from pandas in a future version. Use pandas.concat instead.\n",
      "  df = df.append(post,ignore_index=True)\n"
     ]
    },
    {
     "name": "stdout",
     "output_type": "stream",
     "text": [
      "getting https://phoenix.craigslist.org/evl/gms/d/mesa-patio-sales/7444093053.html\n"
     ]
    },
    {
     "name": "stderr",
     "output_type": "stream",
     "text": [
      "/tmp/ipykernel_4746/609372375.py:7: FutureWarning: The frame.append method is deprecated and will be removed from pandas in a future version. Use pandas.concat instead.\n",
      "  df = df.append(post,ignore_index=True)\n"
     ]
    },
    {
     "name": "stdout",
     "output_type": "stream",
     "text": [
      "getting https://phoenix.craigslist.org/wvl/gms/d/luke-air-force-base-garage-sale/7444018876.html\n"
     ]
    },
    {
     "name": "stderr",
     "output_type": "stream",
     "text": [
      "/tmp/ipykernel_4746/609372375.py:7: FutureWarning: The frame.append method is deprecated and will be removed from pandas in a future version. Use pandas.concat instead.\n",
      "  df = df.append(post,ignore_index=True)\n"
     ]
    },
    {
     "name": "stdout",
     "output_type": "stream",
     "text": [
      "getting https://phoenix.craigslist.org/evl/gms/d/scottsdale-estate-garage-sale/7443923617.html\n"
     ]
    },
    {
     "name": "stderr",
     "output_type": "stream",
     "text": [
      "/tmp/ipykernel_4746/609372375.py:7: FutureWarning: The frame.append method is deprecated and will be removed from pandas in a future version. Use pandas.concat instead.\n",
      "  df = df.append(post,ignore_index=True)\n"
     ]
    },
    {
     "name": "stdout",
     "output_type": "stream",
     "text": [
      "getting https://phoenix.craigslist.org/evl/gms/d/mesa-yard-sale/7443979379.html\n"
     ]
    },
    {
     "ename": "KeyboardInterrupt",
     "evalue": "",
     "output_type": "error",
     "traceback": [
      "\u001b[0;31m---------------------------------------------------------------------------\u001b[0m",
      "\u001b[0;31mKeyboardInterrupt\u001b[0m                         Traceback (most recent call last)",
      "Input \u001b[0;32mIn [19]\u001b[0m, in \u001b[0;36m<module>\u001b[0;34m\u001b[0m\n\u001b[1;32m      4\u001b[0m \u001b[38;5;28mprint\u001b[39m(\u001b[38;5;124m'\u001b[39m\u001b[38;5;124mgetting\u001b[39m\u001b[38;5;124m'\u001b[39m,full_url)\n\u001b[1;32m      5\u001b[0m post \u001b[38;5;241m=\u001b[39m grabpost(full_url)\n\u001b[0;32m----> 6\u001b[0m \u001b[43msleep\u001b[49m\u001b[43m(\u001b[49m\u001b[38;5;241;43m15\u001b[39;49m\u001b[43m)\u001b[49m\n\u001b[1;32m      7\u001b[0m df \u001b[38;5;241m=\u001b[39m df\u001b[38;5;241m.\u001b[39mappend(post,ignore_index\u001b[38;5;241m=\u001b[39m\u001b[38;5;28;01mTrue\u001b[39;00m)\n",
      "\u001b[0;31mKeyboardInterrupt\u001b[0m: "
     ]
    }
   ],
   "source": [
    "for eachlink in links:\n",
    "    full_url = eachlink['href']\n",
    "    if not df.url.str.contains(full_url).any():\n",
    "        print('getting',full_url)\n",
    "        post = grabpost(full_url)\n",
    "        sleep(15)\n",
    "        df = df.append(post,ignore_index=True)"
   ]
  },
  {
   "cell_type": "code",
   "execution_count": 21,
   "id": "949abb99",
   "metadata": {},
   "outputs": [
    {
     "data": {
      "text/html": [
       "<div>\n",
       "<style scoped>\n",
       "    .dataframe tbody tr th:only-of-type {\n",
       "        vertical-align: middle;\n",
       "    }\n",
       "\n",
       "    .dataframe tbody tr th {\n",
       "        vertical-align: top;\n",
       "    }\n",
       "\n",
       "    .dataframe thead th {\n",
       "        text-align: right;\n",
       "    }\n",
       "</style>\n",
       "<table border=\"1\" class=\"dataframe\">\n",
       "  <thead>\n",
       "    <tr style=\"text-align: right;\">\n",
       "      <th></th>\n",
       "      <th>url</th>\n",
       "      <th>title</th>\n",
       "      <th>time</th>\n",
       "      <th>address</th>\n",
       "      <th>post_body</th>\n",
       "    </tr>\n",
       "  </thead>\n",
       "  <tbody>\n",
       "    <tr>\n",
       "      <th>0</th>\n",
       "      <td>https://phoenix.craigslist.org/nph/gms/d/phoen...</td>\n",
       "      <td>REDUCED Kids Motorized Frozen Benz, BMW i8 Cou...</td>\n",
       "      <td>2022-02-06 17:44</td>\n",
       "      <td>Central Ave</td>\n",
       "      <td>\\n\\nQR Code Link to This Post\\n\\n\\nFrozen Benz...</td>\n",
       "    </tr>\n",
       "    <tr>\n",
       "      <th>1</th>\n",
       "      <td>https://phoenix.craigslist.org/nph/gms/d/phoen...</td>\n",
       "      <td>Chevy Wheels  5 lb 10 lb weights and heavy bag...</td>\n",
       "      <td>2022-01-30 03:35</td>\n",
       "      <td>15th,ave near 15th avenue and Hatcher</td>\n",
       "      <td>\\n\\nQR Code Link to This Post\\n\\n\\nGold's gym ...</td>\n",
       "    </tr>\n",
       "    <tr>\n",
       "      <th>2</th>\n",
       "      <td>https://phoenix.craigslist.org/nph/gms/d/phoen...</td>\n",
       "      <td>Garage Sale Thursday &amp; Friday Feb 10,11</td>\n",
       "      <td>2022-02-09 17:18</td>\n",
       "      <td>julie Dr near unionhills Dr &amp; 31st ave</td>\n",
       "      <td>\\n\\nQR Code Link to This Post\\n\\n\\nGarage Sale...</td>\n",
       "    </tr>\n",
       "    <tr>\n",
       "      <th>3</th>\n",
       "      <td>https://phoenix.craigslist.org/wvl/gms/d/sun-c...</td>\n",
       "      <td>Huge Yard and Plant SALE</td>\n",
       "      <td>2022-02-09 14:40</td>\n",
       "      <td>15629 N 99th Dr</td>\n",
       "      <td>\\n\\nQR Code Link to This Post\\n\\n\\nYard and Pl...</td>\n",
       "    </tr>\n",
       "    <tr>\n",
       "      <th>4</th>\n",
       "      <td>https://phoenix.craigslist.org/nph/gms/d/phoen...</td>\n",
       "      <td>HUGE estate sale 2/10, 11, 12</td>\n",
       "      <td>2022-02-09 18:07</td>\n",
       "      <td>3302 W. Pontiac Dr.</td>\n",
       "      <td>\\n\\nQR Code Link to This Post\\n\\n\\nSelling eve...</td>\n",
       "    </tr>\n",
       "    <tr>\n",
       "      <th>5</th>\n",
       "      <td>https://phoenix.craigslist.org/wvl/gms/d/sun-c...</td>\n",
       "      <td>Estate Sale</td>\n",
       "      <td>2022-02-06 16:48</td>\n",
       "      <td>99th Ave near Grand</td>\n",
       "      <td>\\n\\nQR Code Link to This Post\\n\\n\\n9719 W Rivi...</td>\n",
       "    </tr>\n",
       "    <tr>\n",
       "      <th>6</th>\n",
       "      <td>https://phoenix.craigslist.org/wvl/gms/d/palo-...</td>\n",
       "      <td>huge yard sale</td>\n",
       "      <td>2022-02-09 19:46</td>\n",
       "      <td>201 7th Ave E</td>\n",
       "      <td>\\n\\nQR Code Link to This Post\\n\\n\\nHuge yard s...</td>\n",
       "    </tr>\n",
       "    <tr>\n",
       "      <th>7</th>\n",
       "      <td>https://phoenix.craigslist.org/evl/gms/d/rio-v...</td>\n",
       "      <td>Yard/estate sale</td>\n",
       "      <td>2022-02-09 21:58</td>\n",
       "      <td>156th near Rio Verde</td>\n",
       "      <td>\\n\\nQR Code Link to This Post\\n\\n\\nEstate sale...</td>\n",
       "    </tr>\n",
       "    <tr>\n",
       "      <th>8</th>\n",
       "      <td>https://phoenix.craigslist.org/wvl/gms/d/sun-c...</td>\n",
       "      <td>Patio Sale</td>\n",
       "      <td>2022-02-09 10:11</td>\n",
       "      <td>13087 N 100 Ave near Forrester</td>\n",
       "      <td>\\n\\nQR Code Link to This Post\\n\\n\\nAntique lov...</td>\n",
       "    </tr>\n",
       "    <tr>\n",
       "      <th>9</th>\n",
       "      <td>https://phoenix.craigslist.org/wvl/gms/d/sun-c...</td>\n",
       "      <td>Moving sale</td>\n",
       "      <td>2022-02-09 18:45</td>\n",
       "      <td>21628 N 155 Drive near 151st</td>\n",
       "      <td>\\n\\nQR Code Link to This Post\\n\\n\\nLarge movin...</td>\n",
       "    </tr>\n",
       "    <tr>\n",
       "      <th>10</th>\n",
       "      <td>https://phoenix.craigslist.org/wvl/gms/d/glend...</td>\n",
       "      <td>Big Garage Sale!!!</td>\n",
       "      <td>2022-02-09 13:49</td>\n",
       "      <td>5704 W Acoma Dr near 59th and Greenway</td>\n",
       "      <td>\\n\\nQR Code Link to This Post\\n\\n\\nBig Garage ...</td>\n",
       "    </tr>\n",
       "    <tr>\n",
       "      <th>11</th>\n",
       "      <td>https://phoenix.craigslist.org/evl/gms/d/mesa-...</td>\n",
       "      <td>multi family garage sale--thursday 2/10  7am</td>\n",
       "      <td>2022-02-09 19:06</td>\n",
       "      <td>6337 east dodge st</td>\n",
       "      <td>\\n\\nQR Code Link to This Post\\n\\n\\nbeginner in...</td>\n",
       "    </tr>\n",
       "    <tr>\n",
       "      <th>12</th>\n",
       "      <td>https://phoenix.craigslist.org/nph/gms/d/glend...</td>\n",
       "      <td>~ESTATE SALE!~GARAGE SALE~YARD SALE~Everything...</td>\n",
       "      <td>2022-02-02 17:52</td>\n",
       "      <td>55th Ave near Bell Rd</td>\n",
       "      <td>\\n\\nQR Code Link to This Post\\n\\n\\nThis is it....</td>\n",
       "    </tr>\n",
       "    <tr>\n",
       "      <th>13</th>\n",
       "      <td>https://phoenix.craigslist.org/wvl/gms/d/peori...</td>\n",
       "      <td>MOVING SALE</td>\n",
       "      <td>2022-02-04 19:02</td>\n",
       "      <td>10434 W Mission Lane near 103rd Avenue</td>\n",
       "      <td>\\n\\nQR Code Link to This Post\\n\\n\\nMoving Sale...</td>\n",
       "    </tr>\n",
       "    <tr>\n",
       "      <th>14</th>\n",
       "      <td>https://phoenix.craigslist.org/evl/gms/d/gold-...</td>\n",
       "      <td>Moving Sale</td>\n",
       "      <td>2022-02-06 14:05</td>\n",
       "      <td>Breathless Dr near Sleepy Hollow</td>\n",
       "      <td>\\n\\nQR Code Link to This Post\\n\\n\\nMoving sale...</td>\n",
       "    </tr>\n",
       "    <tr>\n",
       "      <th>15</th>\n",
       "      <td>https://phoenix.craigslist.org/wvl/gms/d/sun-c...</td>\n",
       "      <td>Moving Sale -</td>\n",
       "      <td>2022-02-08 22:20</td>\n",
       "      <td>Tropicana Circle near Del Webb</td>\n",
       "      <td>\\n\\nQR Code Link to This Post\\n\\n\\nMoving Sale...</td>\n",
       "    </tr>\n",
       "    <tr>\n",
       "      <th>16</th>\n",
       "      <td>https://phoenix.craigslist.org/wvl/gms/d/peori...</td>\n",
       "      <td>Large moving sale!</td>\n",
       "      <td>2022-02-08 23:33</td>\n",
       "      <td>15951 north 91st dr near 91st Ave and bell</td>\n",
       "      <td>\\n\\nQR Code Link to This Post\\n\\n\\nSelling too...</td>\n",
       "    </tr>\n",
       "    <tr>\n",
       "      <th>17</th>\n",
       "      <td>https://phoenix.craigslist.org/evl/gms/d/tempe...</td>\n",
       "      <td>MOVING SALE: MANY ITEMS - COME GET THEM</td>\n",
       "      <td>2022-02-09 00:54</td>\n",
       "      <td>Weber near Weber - Scottsdale RD</td>\n",
       "      <td>\\n\\nQR Code Link to This Post\\n\\n\\nMOVING SALE...</td>\n",
       "    </tr>\n",
       "    <tr>\n",
       "      <th>18</th>\n",
       "      <td>https://phoenix.craigslist.org/cph/gms/d/phoen...</td>\n",
       "      <td>Everything Must Go</td>\n",
       "      <td>2022-01-29 16:41</td>\n",
       "      <td>31stAve near VanBuren/31StAve</td>\n",
       "      <td>\\n\\nQR Code Link to This Post\\n\\n\\nStop by Mon...</td>\n",
       "    </tr>\n",
       "    <tr>\n",
       "      <th>19</th>\n",
       "      <td>https://phoenix.craigslist.org/nph/gms/d/phoen...</td>\n",
       "      <td>speed bag stand$35. Four wheels $150 Gold gym ...</td>\n",
       "      <td>2022-01-30 11:36</td>\n",
       "      <td>15th,ave near 15th avenue and Hatcher</td>\n",
       "      <td>\\n\\nQR Code Link to This Post\\n\\n\\nBase stand ...</td>\n",
       "    </tr>\n",
       "    <tr>\n",
       "      <th>20</th>\n",
       "      <td>https://phoenix.craigslist.org/wvl/gms/d/phoen...</td>\n",
       "      <td>CARPORT SALE</td>\n",
       "      <td>2022-02-08 15:25</td>\n",
       "      <td>4802 W. Pierson Street near 47th ave &amp; Camelback</td>\n",
       "      <td>\\n\\nQR Code Link to This Post\\n\\n\\nMiscellaneo...</td>\n",
       "    </tr>\n",
       "    <tr>\n",
       "      <th>21</th>\n",
       "      <td>https://phoenix.craigslist.org/nph/gms/d/phoen...</td>\n",
       "      <td>Yard Sale!  Yard Sale!</td>\n",
       "      <td>2022-02-09 07:30</td>\n",
       "      <td>2nd St near Glendale Ave</td>\n",
       "      <td>\\n\\nQR Code Link to This Post\\n\\n\\nLots of kid...</td>\n",
       "    </tr>\n",
       "    <tr>\n",
       "      <th>22</th>\n",
       "      <td>https://phoenix.craigslist.org/evl/gms/d/mesa-...</td>\n",
       "      <td>Patio sales</td>\n",
       "      <td>2022-02-09 22:19</td>\n",
       "      <td>Main Street near Sossamon</td>\n",
       "      <td>\\n\\nQR Code Link to This Post\\n\\n\\nSeveral nic...</td>\n",
       "    </tr>\n",
       "    <tr>\n",
       "      <th>23</th>\n",
       "      <td>https://phoenix.craigslist.org/wvl/gms/d/luke-...</td>\n",
       "      <td>Garage Sale</td>\n",
       "      <td>2022-02-09 17:20</td>\n",
       "      <td>--</td>\n",
       "      <td>\\n\\nQR Code Link to This Post\\n\\n\\nEverything ...</td>\n",
       "    </tr>\n",
       "    <tr>\n",
       "      <th>24</th>\n",
       "      <td>https://phoenix.craigslist.org/evl/gms/d/scott...</td>\n",
       "      <td>Estate Garage Sale:</td>\n",
       "      <td>2022-02-09 13:40</td>\n",
       "      <td>6842 E. Earll Drive near 68th</td>\n",
       "      <td>\\n\\nQR Code Link to This Post\\n\\n\\nGutting thi...</td>\n",
       "    </tr>\n",
       "  </tbody>\n",
       "</table>\n",
       "</div>"
      ],
      "text/plain": [
       "                                                  url  \\\n",
       "0   https://phoenix.craigslist.org/nph/gms/d/phoen...   \n",
       "1   https://phoenix.craigslist.org/nph/gms/d/phoen...   \n",
       "2   https://phoenix.craigslist.org/nph/gms/d/phoen...   \n",
       "3   https://phoenix.craigslist.org/wvl/gms/d/sun-c...   \n",
       "4   https://phoenix.craigslist.org/nph/gms/d/phoen...   \n",
       "5   https://phoenix.craigslist.org/wvl/gms/d/sun-c...   \n",
       "6   https://phoenix.craigslist.org/wvl/gms/d/palo-...   \n",
       "7   https://phoenix.craigslist.org/evl/gms/d/rio-v...   \n",
       "8   https://phoenix.craigslist.org/wvl/gms/d/sun-c...   \n",
       "9   https://phoenix.craigslist.org/wvl/gms/d/sun-c...   \n",
       "10  https://phoenix.craigslist.org/wvl/gms/d/glend...   \n",
       "11  https://phoenix.craigslist.org/evl/gms/d/mesa-...   \n",
       "12  https://phoenix.craigslist.org/nph/gms/d/glend...   \n",
       "13  https://phoenix.craigslist.org/wvl/gms/d/peori...   \n",
       "14  https://phoenix.craigslist.org/evl/gms/d/gold-...   \n",
       "15  https://phoenix.craigslist.org/wvl/gms/d/sun-c...   \n",
       "16  https://phoenix.craigslist.org/wvl/gms/d/peori...   \n",
       "17  https://phoenix.craigslist.org/evl/gms/d/tempe...   \n",
       "18  https://phoenix.craigslist.org/cph/gms/d/phoen...   \n",
       "19  https://phoenix.craigslist.org/nph/gms/d/phoen...   \n",
       "20  https://phoenix.craigslist.org/wvl/gms/d/phoen...   \n",
       "21  https://phoenix.craigslist.org/nph/gms/d/phoen...   \n",
       "22  https://phoenix.craigslist.org/evl/gms/d/mesa-...   \n",
       "23  https://phoenix.craigslist.org/wvl/gms/d/luke-...   \n",
       "24  https://phoenix.craigslist.org/evl/gms/d/scott...   \n",
       "\n",
       "                                                title              time  \\\n",
       "0   REDUCED Kids Motorized Frozen Benz, BMW i8 Cou...  2022-02-06 17:44   \n",
       "1   Chevy Wheels  5 lb 10 lb weights and heavy bag...  2022-01-30 03:35   \n",
       "2             Garage Sale Thursday & Friday Feb 10,11  2022-02-09 17:18   \n",
       "3                            Huge Yard and Plant SALE  2022-02-09 14:40   \n",
       "4                       HUGE estate sale 2/10, 11, 12  2022-02-09 18:07   \n",
       "5                                         Estate Sale  2022-02-06 16:48   \n",
       "6                                      huge yard sale  2022-02-09 19:46   \n",
       "7                                    Yard/estate sale  2022-02-09 21:58   \n",
       "8                                          Patio Sale  2022-02-09 10:11   \n",
       "9                                         Moving sale  2022-02-09 18:45   \n",
       "10                                 Big Garage Sale!!!  2022-02-09 13:49   \n",
       "11       multi family garage sale--thursday 2/10  7am  2022-02-09 19:06   \n",
       "12  ~ESTATE SALE!~GARAGE SALE~YARD SALE~Everything...  2022-02-02 17:52   \n",
       "13                                        MOVING SALE  2022-02-04 19:02   \n",
       "14                                        Moving Sale  2022-02-06 14:05   \n",
       "15                                      Moving Sale -  2022-02-08 22:20   \n",
       "16                                 Large moving sale!  2022-02-08 23:33   \n",
       "17            MOVING SALE: MANY ITEMS - COME GET THEM  2022-02-09 00:54   \n",
       "18                                 Everything Must Go  2022-01-29 16:41   \n",
       "19  speed bag stand$35. Four wheels $150 Gold gym ...  2022-01-30 11:36   \n",
       "20                                       CARPORT SALE  2022-02-08 15:25   \n",
       "21                             Yard Sale!  Yard Sale!  2022-02-09 07:30   \n",
       "22                                        Patio sales  2022-02-09 22:19   \n",
       "23                                        Garage Sale  2022-02-09 17:20   \n",
       "24                                Estate Garage Sale:  2022-02-09 13:40   \n",
       "\n",
       "                                             address  \\\n",
       "0                                        Central Ave   \n",
       "1              15th,ave near 15th avenue and Hatcher   \n",
       "2             julie Dr near unionhills Dr & 31st ave   \n",
       "3                                    15629 N 99th Dr   \n",
       "4                                3302 W. Pontiac Dr.   \n",
       "5                                99th Ave near Grand   \n",
       "6                                      201 7th Ave E   \n",
       "7                               156th near Rio Verde   \n",
       "8                     13087 N 100 Ave near Forrester   \n",
       "9                       21628 N 155 Drive near 151st   \n",
       "10            5704 W Acoma Dr near 59th and Greenway   \n",
       "11                                6337 east dodge st   \n",
       "12                             55th Ave near Bell Rd   \n",
       "13            10434 W Mission Lane near 103rd Avenue   \n",
       "14                  Breathless Dr near Sleepy Hollow   \n",
       "15                    Tropicana Circle near Del Webb   \n",
       "16        15951 north 91st dr near 91st Ave and bell   \n",
       "17                  Weber near Weber - Scottsdale RD   \n",
       "18                     31stAve near VanBuren/31StAve   \n",
       "19             15th,ave near 15th avenue and Hatcher   \n",
       "20  4802 W. Pierson Street near 47th ave & Camelback   \n",
       "21                          2nd St near Glendale Ave   \n",
       "22                         Main Street near Sossamon   \n",
       "23                                                --   \n",
       "24                     6842 E. Earll Drive near 68th   \n",
       "\n",
       "                                            post_body  \n",
       "0   \\n\\nQR Code Link to This Post\\n\\n\\nFrozen Benz...  \n",
       "1   \\n\\nQR Code Link to This Post\\n\\n\\nGold's gym ...  \n",
       "2   \\n\\nQR Code Link to This Post\\n\\n\\nGarage Sale...  \n",
       "3   \\n\\nQR Code Link to This Post\\n\\n\\nYard and Pl...  \n",
       "4   \\n\\nQR Code Link to This Post\\n\\n\\nSelling eve...  \n",
       "5   \\n\\nQR Code Link to This Post\\n\\n\\n9719 W Rivi...  \n",
       "6   \\n\\nQR Code Link to This Post\\n\\n\\nHuge yard s...  \n",
       "7   \\n\\nQR Code Link to This Post\\n\\n\\nEstate sale...  \n",
       "8   \\n\\nQR Code Link to This Post\\n\\n\\nAntique lov...  \n",
       "9   \\n\\nQR Code Link to This Post\\n\\n\\nLarge movin...  \n",
       "10  \\n\\nQR Code Link to This Post\\n\\n\\nBig Garage ...  \n",
       "11  \\n\\nQR Code Link to This Post\\n\\n\\nbeginner in...  \n",
       "12  \\n\\nQR Code Link to This Post\\n\\n\\nThis is it....  \n",
       "13  \\n\\nQR Code Link to This Post\\n\\n\\nMoving Sale...  \n",
       "14  \\n\\nQR Code Link to This Post\\n\\n\\nMoving sale...  \n",
       "15  \\n\\nQR Code Link to This Post\\n\\n\\nMoving Sale...  \n",
       "16  \\n\\nQR Code Link to This Post\\n\\n\\nSelling too...  \n",
       "17  \\n\\nQR Code Link to This Post\\n\\n\\nMOVING SALE...  \n",
       "18  \\n\\nQR Code Link to This Post\\n\\n\\nStop by Mon...  \n",
       "19  \\n\\nQR Code Link to This Post\\n\\n\\nBase stand ...  \n",
       "20  \\n\\nQR Code Link to This Post\\n\\n\\nMiscellaneo...  \n",
       "21  \\n\\nQR Code Link to This Post\\n\\n\\nLots of kid...  \n",
       "22  \\n\\nQR Code Link to This Post\\n\\n\\nSeveral nic...  \n",
       "23  \\n\\nQR Code Link to This Post\\n\\n\\nEverything ...  \n",
       "24  \\n\\nQR Code Link to This Post\\n\\n\\nGutting thi...  "
      ]
     },
     "execution_count": 21,
     "metadata": {},
     "output_type": "execute_result"
    }
   ],
   "source": [
    "df"
   ]
  },
  {
   "cell_type": "code",
   "execution_count": 20,
   "id": "ece19111",
   "metadata": {},
   "outputs": [
    {
     "data": {
      "text/plain": [
       "188"
      ]
     },
     "execution_count": 20,
     "metadata": {},
     "output_type": "execute_result"
    }
   ],
   "source": [
    "len(links)"
   ]
  },
  {
   "cell_type": "markdown",
   "id": "fdb31224",
   "metadata": {},
   "source": [
    "Looks like it's working, so I intturpted the kernel. We got 188 links, so at 15 sec each, should take about 45min-1hr. I'll go ahead and put it all in a .py file and run it.... oh, wait, forgot to add keywords and actually write to the csv. I'll put they keyword part in the function we created earlier."
   ]
  },
  {
   "cell_type": "code",
   "execution_count": null,
   "id": "09433fca",
   "metadata": {},
   "outputs": [],
   "source": []
  }
 ],
 "metadata": {
  "kernelspec": {
   "display_name": "Python (mod4)",
   "language": "python",
   "name": "mod4"
  },
  "language_info": {
   "codemirror_mode": {
    "name": "ipython",
    "version": 3
   },
   "file_extension": ".py",
   "mimetype": "text/x-python",
   "name": "python",
   "nbconvert_exporter": "python",
   "pygments_lexer": "ipython3",
   "version": "3.10.2"
  }
 },
 "nbformat": 4,
 "nbformat_minor": 5
}
