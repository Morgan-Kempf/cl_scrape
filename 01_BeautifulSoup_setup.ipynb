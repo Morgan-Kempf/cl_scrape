{
 "cells": [
  {
   "cell_type": "code",
   "execution_count": 2,
   "id": "991eaa9e",
   "metadata": {},
   "outputs": [],
   "source": [
    "import requests\n",
    "from bs4 import BeautifulSoup"
   ]
  },
  {
   "cell_type": "markdown",
   "id": "5944ea2a",
   "metadata": {},
   "source": [
    "Same setup we did before, but with craigslist this time."
   ]
  },
  {
   "cell_type": "code",
   "execution_count": 20,
   "id": "e108810e",
   "metadata": {},
   "outputs": [],
   "source": [
    "url = 'https://phoenix.craigslist.org/nph/gms/d/phoenix-reduced-kids-motorized-frozen/7442684354.html'\n",
    "thispage = requests.get(url)\n",
    "bs = BeautifulSoup(thispage.text,'html.parser')"
   ]
  },
  {
   "cell_type": "markdown",
   "id": "1984bdd9",
   "metadata": {},
   "source": [
    "Looking at chrome dev tools, it looks like the title sits inside the h1 tag like before, this time with a 'postingtitle' class, and 'titletextonly' id. I think if the id works, thats less to sift through later, so gonna try it."
   ]
  },
  {
   "cell_type": "code",
   "execution_count": 23,
   "id": "6e593b32",
   "metadata": {},
   "outputs": [
    {
     "name": "stdout",
     "output_type": "stream",
     "text": [
      "REDUCED Kids Motorized Frozen Benz, BMW i8 Coupe, 4 Wheeler....\n"
     ]
    }
   ],
   "source": [
    "title = bs.find(id='titletextonly').text\n",
    "print(title)"
   ]
  },
  {
   "cell_type": "markdown",
   "id": "d2942d41",
   "metadata": {},
   "source": [
    "That went well. Now for the text of the post itself... And that looks the same, and id of 'posting body' with just the text we want."
   ]
  },
  {
   "cell_type": "code",
   "execution_count": 22,
   "id": "5b251f0a",
   "metadata": {},
   "outputs": [
    {
     "name": "stdout",
     "output_type": "stream",
     "text": [
      "\n",
      "\n",
      "QR Code Link to This Post\n",
      "\n",
      "\n",
      "Frozen Benz Motorized Car, Yamaha Raptor 700R & Blue 4 Wheeler plus Razor and Helix Scooter!\n",
      "\n",
      "Frozen- $250\n",
      "BMW- $135\n",
      "Yamaha Raptor- $180\n",
      "Kailee 6 Volt Trail Blazer 4 Wheeler- $50\n",
      "\n",
      "Razor Scooter- $80\n",
      "Helix Scooter- $35\n",
      "\n",
      "Call or text anytime 4EightZero FourFiveThree Two78Two\n",
      "\n"
     ]
    }
   ],
   "source": [
    "post_body = bs.find(id='postingbody')\n",
    "print(post_body.text)"
   ]
  },
  {
   "cell_type": "markdown",
   "id": "8f3bf8c5",
   "metadata": {},
   "source": [
    "Let's see what else looks important... don't see anything about who posted it, but there's a map. Might be able to get an address. The time it was posted also looks do-able."
   ]
  },
  {
   "cell_type": "code",
   "execution_count": 39,
   "id": "8a47dadc",
   "metadata": {},
   "outputs": [
    {
     "name": "stdout",
     "output_type": "stream",
     "text": [
      "2022-02-06 17:44\n"
     ]
    }
   ],
   "source": [
    "time_posted = bs.find('time').text.strip()\n",
    "print(time_posted)"
   ]
  },
  {
   "cell_type": "markdown",
   "id": "11e15fdc",
   "metadata": {},
   "source": [
    "that went well. now for the hard one! maybe"
   ]
  },
  {
   "cell_type": "code",
   "execution_count": 36,
   "id": "77557f1c",
   "metadata": {},
   "outputs": [
    {
     "name": "stdout",
     "output_type": "stream",
     "text": [
      "Central Ave\n"
     ]
    }
   ],
   "source": [
    "address = bs.find(class_='mapaddress')\n",
    "print(address.text)"
   ]
  },
  {
   "cell_type": "markdown",
   "id": "a73a55ff",
   "metadata": {},
   "source": [
    "Lat/Long was an option... but a bit more complicated and probably a bit overkill for this project. Also, the one we're using will probably get less errors since it's... probably less optional??? than the lat/long when making a post."
   ]
  },
  {
   "cell_type": "markdown",
   "id": "4eb3296d",
   "metadata": {},
   "source": [
    "Cool. Now I'll just clean up this code so we can copy it over to the other ipynb as a function."
   ]
  },
  {
   "cell_type": "code",
   "execution_count": 40,
   "id": "7de0b6ff",
   "metadata": {},
   "outputs": [
    {
     "name": "stdout",
     "output_type": "stream",
     "text": [
      "{'url': 'https://phoenix.craigslist.org/nph/gms/d/phoenix-reduced-kids-motorized-frozen/7442684354.html', 'title': 'REDUCED Kids Motorized Frozen Benz, BMW i8 Coupe, 4 Wheeler....', 'time': '2022-02-06 17:44', 'address': 'Central Ave', 'post_body': '\\n\\nQR Code Link to This Post\\n\\n\\nFrozen Benz Motorized Car, Yamaha Raptor 700R & Blue 4 Wheeler plus Razor and Helix Scooter!\\n\\nFrozen- $250\\nBMW- $135\\nYamaha Raptor- $180\\nKailee 6 Volt Trail Blazer 4 Wheeler- $50\\n\\nRazor Scooter- $80\\nHelix Scooter- $35\\n\\nCall or text anytime 4EightZero FourFiveThree Two78Two\\n'}\n"
     ]
    }
   ],
   "source": [
    "thisurl = 'https://phoenix.craigslist.org/nph/gms/d/phoenix-reduced-kids-motorized-frozen/7442684354.html'\n",
    "def grabpost(thisurl):\n",
    "    thispage = requests.get(thisurl)\n",
    "    bs = BeautifulSoup(thispage.text,'html.parser')\n",
    "    title = bs.find(id='titletextonly').text\n",
    "    time_posted = bs.find('time').text.strip()\n",
    "    address = bs.find(class_='mapaddress').text\n",
    "    post_body = bs.find(id='postingbody').text\n",
    "    return {'url':thisurl, 'title': title, 'time': time_posted,\n",
    "           'address': address, 'post_body': post_body}\n",
    "\n",
    "print(grabpost(thisurl))"
   ]
  },
  {
   "cell_type": "code",
   "execution_count": null,
   "id": "d60405ed",
   "metadata": {},
   "outputs": [],
   "source": []
  }
 ],
 "metadata": {
  "kernelspec": {
   "display_name": "Python (mod4)",
   "language": "python",
   "name": "mod4"
  },
  "language_info": {
   "codemirror_mode": {
    "name": "ipython",
    "version": 3
   },
   "file_extension": ".py",
   "mimetype": "text/x-python",
   "name": "python",
   "nbconvert_exporter": "python",
   "pygments_lexer": "ipython3",
   "version": "3.10.2"
  }
 },
 "nbformat": 4,
 "nbformat_minor": 5
}
